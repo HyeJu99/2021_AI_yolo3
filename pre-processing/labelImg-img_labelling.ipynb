{
 "cells": [
  {
   "cell_type": "code",
   "execution_count": 6,
   "id": "43f8e907",
   "metadata": {},
   "outputs": [
    {
     "name": "stdout",
     "output_type": "stream",
     "text": [
      "Requirement already satisfied: labelImg in c:\\users\\174910\\anaconda3\\lib\\site-packages (1.8.6)\n",
      "Requirement already satisfied: pyqt5 in c:\\users\\174910\\anaconda3\\lib\\site-packages (from labelImg) (5.12.3)\n",
      "Requirement already satisfied: lxml in c:\\users\\174910\\anaconda3\\lib\\site-packages (from labelImg) (4.8.0)\n",
      "Requirement already satisfied: PyQt5_sip<13,>=4.19.14 in c:\\users\\174910\\anaconda3\\lib\\site-packages (from pyqt5->labelImg) (12.11.0)\n"
     ]
    }
   ],
   "source": [
    "!pip3 install labelImg"
   ]
  },
  {
   "cell_type": "code",
   "execution_count": 7,
   "id": "e57b5d6c",
   "metadata": {},
   "outputs": [
    {
     "name": "stdout",
     "output_type": "stream",
     "text": [
      "Requirement already satisfied: pyqtwebengine==5.12.1 in c:\\users\\174910\\anaconda3\\lib\\site-packages (5.12.1)\n",
      "Requirement already satisfied: PyQt5>=5.12 in c:\\users\\174910\\anaconda3\\lib\\site-packages (from pyqtwebengine==5.12.1) (5.12.3)\n",
      "Requirement already satisfied: PyQt5_sip<13,>=4.19.14 in c:\\users\\174910\\anaconda3\\lib\\site-packages (from PyQt5>=5.12->pyqtwebengine==5.12.1) (12.11.0)\n"
     ]
    }
   ],
   "source": [
    "!pip3 install pyqtwebengine==5.12.1"
   ]
  },
  {
   "cell_type": "code",
   "execution_count": 5,
   "id": "927f207a",
   "metadata": {},
   "outputs": [
    {
     "name": "stdout",
     "output_type": "stream",
     "text": [
      "Collecting pyqt5==5.12.3\n",
      "  Downloading PyQt5-5.12.3-5.12.10-cp35.cp36.cp37.cp38.cp39-none-win_amd64.whl (51.4 MB)\n",
      "Requirement already satisfied: PyQt5_sip<13,>=4.19.14 in c:\\users\\174910\\anaconda3\\lib\\site-packages (from pyqt5==5.12.3) (12.11.0)\n",
      "Installing collected packages: pyqt5\n",
      "  Attempting uninstall: pyqt5\n",
      "    Found existing installation: PyQt5 5.15.7\n",
      "    Uninstalling PyQt5-5.15.7:\n",
      "      Successfully uninstalled PyQt5-5.15.7\n",
      "Successfully installed pyqt5-5.12.3\n"
     ]
    }
   ],
   "source": [
    "!pip3 install pyqt5==5.12.3"
   ]
  },
  {
   "cell_type": "code",
   "execution_count": 11,
   "id": "b50f333e",
   "metadata": {},
   "outputs": [
    {
     "name": "stdout",
     "output_type": "stream",
     "text": [
      "c:\\users\\174910\\anaconda3\\lib\\site-packages\\labelImg\n"
     ]
    }
   ],
   "source": [
    "cd c:\\users\\174910\\anaconda3\\lib\\site-packages\\labelImg"
   ]
  },
  {
   "cell_type": "code",
   "execution_count": 12,
   "id": "f03d08ff",
   "metadata": {},
   "outputs": [
    {
     "data": {
      "text/plain": [
       "'c:\\\\users\\\\174910\\\\anaconda3\\\\lib\\\\site-packages\\\\labelImg'"
      ]
     },
     "execution_count": 12,
     "metadata": {},
     "output_type": "execute_result"
    }
   ],
   "source": [
    "pwd"
   ]
  },
  {
   "cell_type": "code",
   "execution_count": 27,
   "id": "1907af49",
   "metadata": {
    "scrolled": true
   },
   "outputs": [
    {
     "name": "stderr",
     "output_type": "stream",
     "text": [
      "c:\\users\\174910\\anaconda3\\lib\\site-packages\\labelImg\\labelImg.py:208: DeprecationWarning: an integer is required (got type DockWidgetFeatures).  Implicit conversion to integers using __int__ is deprecated, and may be removed in a future version of Python.\n",
      "  self.dock.setFeatures(self.dock.features() ^ self.dock_features)\n"
     ]
    }
   ],
   "source": [
    "!python labelImg.py"
   ]
  },
  {
   "cell_type": "code",
   "execution_count": 13,
   "id": "63b0fbd1",
   "metadata": {},
   "outputs": [
    {
     "name": "stderr",
     "output_type": "stream",
     "text": [
      "C:\\Users\\174910\\Anaconda3\\lib\\site-packages\\PyQt5\\pyrcc_main.py: File does not exist 'resources.qrc'\n"
     ]
    }
   ],
   "source": [
    "!pyrcc5 -o libs/resources.py resources.qrc"
   ]
  },
  {
   "cell_type": "code",
   "execution_count": 10,
   "id": "2df3aedb",
   "metadata": {},
   "outputs": [
    {
     "data": {
      "text/plain": [
       "'C:\\\\Users\\\\FBK\\\\Desktop\\\\capstone\\\\practice_1007'"
      ]
     },
     "execution_count": 10,
     "metadata": {},
     "output_type": "execute_result"
    }
   ],
   "source": [
    "pwd"
   ]
  },
  {
   "cell_type": "code",
   "execution_count": 13,
   "id": "98bb7733",
   "metadata": {},
   "outputs": [
    {
     "name": "stdout",
     "output_type": "stream",
     "text": [
      "[WinError 2] 지정된 파일을 찾을 수 없습니다: 'labelImg'\n",
      "C:\\Users\\FBK\\Desktop\\capstone\\practice_1007\\labelImg\n"
     ]
    }
   ],
   "source": [
    "cd labelImg"
   ]
  },
  {
   "cell_type": "code",
   "execution_count": 14,
   "id": "5b5a9002",
   "metadata": {},
   "outputs": [
    {
     "name": "stderr",
     "output_type": "stream",
     "text": [
      "C:\\Users\\174910\\Anaconda3\\lib\\site-packages\\PyQt5\\pyrcc_main.py: File does not exist 'resources.qrc'\n"
     ]
    }
   ],
   "source": [
    "!pyrcc5 -o resources.py resources.qrc"
   ]
  },
  {
   "cell_type": "code",
   "execution_count": 16,
   "id": "7b93c268",
   "metadata": {},
   "outputs": [
    {
     "name": "stdout",
     "output_type": "stream",
     "text": [
      "C:\\Users\\FBK\\Desktop\\capstone\\practice_1007\n"
     ]
    }
   ],
   "source": [
    "cd .."
   ]
  },
  {
   "cell_type": "code",
   "execution_count": 17,
   "id": "00369392",
   "metadata": {},
   "outputs": [
    {
     "name": "stderr",
     "output_type": "stream",
     "text": [
      "Traceback (most recent call last):\n",
      "  File \"labelImg/labelImg.py\", line 33, in <module>\n",
      "    from libs.resources import *\n",
      "ModuleNotFoundError: No module named 'libs.resources'\n"
     ]
    }
   ],
   "source": [
    "!python labelImg/labelImg.py"
   ]
  },
  {
   "cell_type": "code",
   "execution_count": 18,
   "id": "5a94bcd6",
   "metadata": {},
   "outputs": [
    {
     "name": "stdout",
     "output_type": "stream",
     "text": [
      "C:\\Users\\FBK\\Desktop\\capstone\\practice_1007\\labelImg\n"
     ]
    }
   ],
   "source": [
    "cd labelImg"
   ]
  },
  {
   "cell_type": "code",
   "execution_count": 19,
   "id": "0cda4552",
   "metadata": {},
   "outputs": [],
   "source": [
    "!pyrcc5 -o libs/resources.py resources.qrc"
   ]
  },
  {
   "cell_type": "code",
   "execution_count": 20,
   "id": "d33725b9",
   "metadata": {},
   "outputs": [
    {
     "name": "stdout",
     "output_type": "stream",
     "text": [
      "C:\\Users\\FBK\\Desktop\\capstone\\practice_1007\n"
     ]
    }
   ],
   "source": [
    "cd .."
   ]
  },
  {
   "cell_type": "code",
   "execution_count": 21,
   "id": "0d2c4e37",
   "metadata": {},
   "outputs": [
    {
     "name": "stdout",
     "output_type": "stream",
     "text": [
      "Image:C:\\Users\\FBK\\Desktop\\capstone\\practice_1007\\frame\\00000.jpg -> Annotation:C:/Users/FBK/Desktop/capstone/practice_1007/label/00000.xml\n",
      "Image:C:\\Users\\FBK\\Desktop\\capstone\\practice_1007\\frame\\00001.jpg -> Annotation:C:/Users/FBK/Desktop/capstone/practice_1007/frame/00001.xml\n",
      "Image:C:\\Users\\FBK\\Desktop\\capstone\\practice_1007\\frame\\00002.jpg -> Annotation:C:/Users/FBK/Desktop/capstone/practice_1007/frame/00002.xml\n",
      "Image:C:\\Users\\FBK\\Desktop\\capstone\\practice_1007\\frame\\00003.jpg -> Annotation:C:/Users/FBK/Desktop/capstone/practice_1007/frame/00003.xml\n",
      "Image:C:\\Users\\FBK\\Desktop\\capstone\\practice_1007\\frame\\00004.jpg -> Annotation:C:/Users/FBK/Desktop/capstone/practice_1007/frame/00004.xml\n",
      "Image:C:\\Users\\FBK\\Desktop\\capstone\\practice_1007\\frame\\00005.jpg -> Annotation:C:/Users/FBK/Desktop/capstone/practice_1007/frame/00005.xml\n",
      "Image:C:\\Users\\FBK\\Desktop\\capstone\\practice_1007\\frame\\00006.jpg -> Annotation:C:/Users/FBK/Desktop/capstone/practice_1007/frame/00006.xml\n"
     ]
    },
    {
     "name": "stderr",
     "output_type": "stream",
     "text": [
      "labelImg/labelImg.py:208: DeprecationWarning: an integer is required (got type DockWidgetFeatures).  Implicit conversion to integers using __int__ is deprecated, and may be removed in a future version of Python.\n",
      "  self.dock.setFeatures(self.dock.features() ^ self.dock_features)\n",
      "labelImg/labelImg.py:971: DeprecationWarning: an integer is required (got type float).  Implicit conversion to integers using __int__ is deprecated, and may be removed in a future version of Python.\n",
      "  self.zoom_widget.setValue(value)\n",
      "labelImg/labelImg.py:1025: DeprecationWarning: an integer is required (got type float).  Implicit conversion to integers using __int__ is deprecated, and may be removed in a future version of Python.\n",
      "  h_bar.setValue(new_h_bar_value)\n",
      "labelImg/labelImg.py:1026: DeprecationWarning: an integer is required (got type float).  Implicit conversion to integers using __int__ is deprecated, and may be removed in a future version of Python.\n",
      "  v_bar.setValue(new_v_bar_value)\n",
      "labelImg/labelImg.py:965: DeprecationWarning: an integer is required (got type float).  Implicit conversion to integers using __int__ is deprecated, and may be removed in a future version of Python.\n",
      "  bar.setValue(bar.value() + bar.singleStep() * units)\n"
     ]
    }
   ],
   "source": [
    "!python labelImg/labelImg.py"
   ]
  },
  {
   "cell_type": "code",
   "execution_count": null,
   "id": "9496676b",
   "metadata": {},
   "outputs": [],
   "source": []
  }
 ],
 "metadata": {
  "kernelspec": {
   "display_name": "Python 3 (ipykernel)",
   "language": "python",
   "name": "python3"
  },
  "language_info": {
   "codemirror_mode": {
    "name": "ipython",
    "version": 3
   },
   "file_extension": ".py",
   "mimetype": "text/x-python",
   "name": "python",
   "nbconvert_exporter": "python",
   "pygments_lexer": "ipython3",
   "version": "3.9.12"
  }
 },
 "nbformat": 4,
 "nbformat_minor": 5
}
