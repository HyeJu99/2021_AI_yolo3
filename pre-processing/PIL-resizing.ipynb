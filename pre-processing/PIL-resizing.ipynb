{
 "cells": [
  {
   "cell_type": "code",
   "execution_count": 1,
   "id": "19cb010e",
   "metadata": {},
   "outputs": [
    {
     "data": {
      "text/plain": [
       "'C:\\\\Users\\\\174910\\\\Documents\\\\Python Scripts'"
      ]
     },
     "execution_count": 1,
     "metadata": {},
     "output_type": "execute_result"
    }
   ],
   "source": [
    "pwd"
   ]
  },
  {
   "cell_type": "code",
   "execution_count": 21,
   "id": "b46b8f18",
   "metadata": {},
   "outputs": [
    {
     "name": "stdout",
     "output_type": "stream",
     "text": [
      "C:\\Users\\FBK\\Desktop\\capstone\\practice_1007\\label\n",
      "['00000.xml', '00001.xml', '00002.xml', '00003.xml', '00004.xml', '00005.xml', '00006.xml']\n",
      "00000.xml\n",
      "00001.xml\n",
      "00002.xml\n",
      "00003.xml\n",
      "00004.xml\n",
      "00005.xml\n",
      "00006.xml\n"
     ]
    }
   ],
   "source": [
    "import os\n",
    "\n",
    "targerdir = r\"C:\\Users\\FBK\\Desktop\\capstone\\practice_1007\\label\"\n",
    "print(targerdir)\n",
    "\n",
    "files = os.listdir(targerdir)\n",
    "print(files)\n",
    "\n",
    "for i in files :\n",
    "    print(i)"
   ]
  },
  {
   "cell_type": "markdown",
   "id": "6421488a",
   "metadata": {},
   "source": [
    "### 이미지 resizing"
   ]
  },
  {
   "cell_type": "code",
   "execution_count": 20,
   "id": "93c04a22",
   "metadata": {},
   "outputs": [],
   "source": [
    "from PIL import Image\n",
    "import os\n",
    "\n",
    "img_path = r\"./img\"\n",
    "img_files = os.listdir(img_path)\n",
    "\n",
    "new_img_path = r\"./resize_img\"\n",
    "\n",
    "def resizeImg(files, imgPath, newImgPath):\n",
    "    if not os.path.exists(newImgPath):\n",
    "        os.makedirs(newImgPath)\n",
    "        \n",
    "    for image_file in files:\n",
    "        image = Image.open(imgPath + '/' + image_file)\n",
    "        resize_image = image.resize((108, 192))\n",
    "        resize_image.save(newImgPath + '/' + image_file)\n",
    "\n",
    "resizeImg(img_files, img_path, new_img_path)"
   ]
  },
  {
   "cell_type": "code",
   "execution_count": 21,
   "id": "7a0f21c7",
   "metadata": {},
   "outputs": [
    {
     "data": {
      "text/plain": [
       "'C:\\\\Users\\\\FBK\\\\Desktop\\\\capstone\\\\practice_1007'"
      ]
     },
     "execution_count": 21,
     "metadata": {},
     "output_type": "execute_result"
    }
   ],
   "source": [
    "pwd"
   ]
  },
  {
   "cell_type": "markdown",
   "id": "59e083a6",
   "metadata": {},
   "source": [
    "### xml resizing\n",
    "\n",
    "* xml파일에서 path, width, height 수정 필요할 시, 추가 예정"
   ]
  },
  {
   "cell_type": "code",
   "execution_count": 2,
   "id": "6b429f9e",
   "metadata": {},
   "outputs": [
    {
     "name": "stdout",
     "output_type": "stream",
     "text": [
      "(480, 852)\n"
     ]
    }
   ],
   "source": [
    "from PIL import Image\n",
    " \n",
    "image1 = Image.open('./frame/v1/v1_0.jpg')\n",
    "\n",
    "image1.show()\n",
    "\n",
    "imag1_size = image1.size\n",
    "\n",
    "print(imag1_size)"
   ]
  },
  {
   "cell_type": "code",
   "execution_count": 6,
   "id": "4c38facd",
   "metadata": {
    "scrolled": true
   },
   "outputs": [
    {
     "name": "stdout",
     "output_type": "stream",
     "text": [
      "['v1_0.xml', 'v1_1.xml', 'v1_10.xml', 'v1_11.xml', 'v1_12.xml', 'v1_13.xml', 'v1_14.xml', 'v1_15.xml', 'v1_16.xml', 'v1_17.xml', 'v1_18.xml', 'v1_19.xml', 'v1_2.xml', 'v1_20.xml', 'v1_21.xml', 'v1_22.xml', 'v1_23.xml', 'v1_24.xml', 'v1_25.xml', 'v1_26.xml', 'v1_27.xml', 'v1_28.xml', 'v1_29.xml', 'v1_3.xml', 'v1_30.xml', 'v1_31.xml', 'v1_32.xml', 'v1_33.xml', 'v1_34.xml', 'v1_35.xml', 'v1_36.xml', 'v1_37.xml', 'v1_38.xml', 'v1_39.xml', 'v1_4.xml', 'v1_40.xml', 'v1_41.xml', 'v1_42.xml', 'v1_43.xml', 'v1_44.xml', 'v1_45.xml', 'v1_46.xml', 'v1_47.xml', 'v1_48.xml', 'v1_49.xml', 'v1_5.xml', 'v1_50.xml', 'v1_51.xml', 'v1_52.xml', 'v1_53.xml', 'v1_54.xml', 'v1_55.xml', 'v1_56.xml', 'v1_6.xml', 'v1_7.xml', 'v1_8.xml', 'v1_9.xml', 'v28_0.xml']\n",
      "['v2_0.xml', 'v2_1.xml', 'v2_10.xml', 'v2_100.xml', 'v2_101.xml', 'v2_102.xml', 'v2_103.xml', 'v2_104.xml', 'v2_105.xml', 'v2_106.xml', 'v2_107.xml', 'v2_108.xml', 'v2_109.xml', 'v2_11.xml', 'v2_110.xml', 'v2_111.xml', 'v2_112.xml', 'v2_113.xml', 'v2_114.xml', 'v2_115.xml', 'v2_116.xml', 'v2_117.xml', 'v2_118.xml', 'v2_119.xml', 'v2_12.xml', 'v2_120.xml', 'v2_121.xml', 'v2_122.xml', 'v2_123.xml', 'v2_124.xml', 'v2_125.xml', 'v2_126.xml', 'v2_127.xml', 'v2_128.xml', 'v2_129.xml', 'v2_13.xml', 'v2_130.xml', 'v2_131.xml', 'v2_132.xml', 'v2_133.xml', 'v2_134.xml', 'v2_135.xml', 'v2_136.xml', 'v2_137.xml', 'v2_138.xml', 'v2_139.xml', 'v2_14.xml', 'v2_140.xml', 'v2_141.xml', 'v2_142.xml', 'v2_143.xml', 'v2_144.xml', 'v2_145.xml', 'v2_146.xml', 'v2_147.xml', 'v2_148.xml', 'v2_149.xml', 'v2_15.xml', 'v2_150.xml', 'v2_151.xml', 'v2_152.xml', 'v2_153.xml', 'v2_154.xml', 'v2_155.xml', 'v2_156.xml', 'v2_157.xml', 'v2_158.xml', 'v2_159.xml', 'v2_16.xml', 'v2_160.xml', 'v2_161.xml', 'v2_162.xml', 'v2_163.xml', 'v2_164.xml', 'v2_165.xml', 'v2_166.xml', 'v2_167.xml', 'v2_168.xml', 'v2_169.xml', 'v2_17.xml', 'v2_170.xml', 'v2_171.xml', 'v2_172.xml', 'v2_173.xml', 'v2_174.xml', 'v2_175.xml', 'v2_176.xml', 'v2_177.xml', 'v2_178.xml', 'v2_179.xml', 'v2_18.xml', 'v2_180.xml', 'v2_181.xml', 'v2_182.xml', 'v2_183.xml', 'v2_184.xml', 'v2_185.xml', 'v2_186.xml', 'v2_187.xml', 'v2_188.xml', 'v2_189.xml', 'v2_19.xml', 'v2_190.xml', 'v2_191.xml', 'v2_192.xml', 'v2_193.xml', 'v2_194.xml', 'v2_195.xml', 'v2_196.xml', 'v2_197.xml', 'v2_198.xml', 'v2_199.xml', 'v2_2.xml', 'v2_20.xml', 'v2_200.xml', 'v2_201.xml', 'v2_202.xml', 'v2_203.xml', 'v2_204.xml', 'v2_205.xml', 'v2_206.xml', 'v2_207.xml', 'v2_208.xml', 'v2_209.xml', 'v2_21.xml', 'v2_210.xml', 'v2_211.xml', 'v2_212.xml', 'v2_213.xml', 'v2_214.xml', 'v2_215.xml', 'v2_216.xml', 'v2_217.xml', 'v2_218.xml', 'v2_219.xml', 'v2_22.xml', 'v2_220.xml', 'v2_221.xml', 'v2_222.xml', 'v2_223.xml', 'v2_224.xml', 'v2_225.xml', 'v2_226.xml', 'v2_227.xml', 'v2_228.xml', 'v2_229.xml', 'v2_23.xml', 'v2_230.xml', 'v2_231.xml', 'v2_232.xml', 'v2_233.xml', 'v2_234.xml', 'v2_235.xml', 'v2_236.xml', 'v2_237.xml', 'v2_238.xml', 'v2_239.xml', 'v2_24.xml', 'v2_240.xml', 'v2_241.xml', 'v2_242.xml', 'v2_243.xml', 'v2_244.xml', 'v2_245.xml', 'v2_246.xml', 'v2_247.xml', 'v2_248.xml', 'v2_249.xml', 'v2_25.xml', 'v2_250.xml', 'v2_251.xml', 'v2_252.xml', 'v2_253.xml', 'v2_254.xml', 'v2_255.xml', 'v2_26.xml', 'v2_27.xml', 'v2_28.xml', 'v2_29.xml', 'v2_3.xml', 'v2_30.xml', 'v2_31.xml', 'v2_32.xml', 'v2_33.xml', 'v2_34.xml', 'v2_35.xml', 'v2_36.xml', 'v2_37.xml', 'v2_38.xml', 'v2_39.xml', 'v2_4.xml', 'v2_40.xml', 'v2_41.xml', 'v2_42.xml', 'v2_43.xml', 'v2_44.xml', 'v2_45.xml', 'v2_46.xml', 'v2_47.xml', 'v2_48.xml', 'v2_49.xml', 'v2_5.xml', 'v2_50.xml', 'v2_51.xml', 'v2_52.xml', 'v2_53.xml', 'v2_54.xml', 'v2_55.xml', 'v2_56.xml', 'v2_57.xml', 'v2_58.xml', 'v2_59.xml', 'v2_6.xml', 'v2_60.xml', 'v2_61.xml', 'v2_62.xml', 'v2_63.xml', 'v2_64.xml', 'v2_65.xml', 'v2_66.xml', 'v2_67.xml', 'v2_68.xml', 'v2_69.xml', 'v2_7.xml', 'v2_70.xml', 'v2_71.xml', 'v2_72.xml', 'v2_73.xml', 'v2_74.xml', 'v2_75.xml', 'v2_76.xml', 'v2_77.xml', 'v2_78.xml', 'v2_79.xml', 'v2_8.xml', 'v2_80.xml', 'v2_81.xml', 'v2_82.xml', 'v2_83.xml', 'v2_84.xml', 'v2_85.xml', 'v2_86.xml', 'v2_87.xml', 'v2_88.xml', 'v2_89.xml', 'v2_9.xml', 'v2_90.xml', 'v2_91.xml', 'v2_92.xml', 'v2_93.xml', 'v2_94.xml', 'v2_95.xml', 'v2_96.xml', 'v2_97.xml', 'v2_98.xml', 'v2_99.xml']\n",
      "['v3_0.xml', 'v3_1.xml', 'v3_10.xml', 'v3_11.xml', 'v3_12.xml', 'v3_13.xml', 'v3_14.xml', 'v3_15.xml', 'v3_16.xml', 'v3_17.xml', 'v3_18.xml', 'v3_19.xml', 'v3_2.xml', 'v3_20.xml', 'v3_21.xml', 'v3_22.xml', 'v3_23.xml', 'v3_24.xml', 'v3_25.xml', 'v3_26.xml', 'v3_27.xml', 'v3_28.xml', 'v3_29.xml', 'v3_3.xml', 'v3_30.xml', 'v3_31.xml', 'v3_32.xml', 'v3_33.xml', 'v3_34.xml', 'v3_35.xml', 'v3_36.xml', 'v3_37.xml', 'v3_38.xml', 'v3_39.xml', 'v3_4.xml', 'v3_40.xml', 'v3_41.xml', 'v3_42.xml', 'v3_43.xml', 'v3_44.xml', 'v3_45.xml', 'v3_46.xml', 'v3_47.xml', 'v3_48.xml', 'v3_49.xml', 'v3_5.xml', 'v3_50.xml', 'v3_51.xml', 'v3_52.xml', 'v3_53.xml', 'v3_54.xml', 'v3_55.xml', 'v3_56.xml', 'v3_57.xml', 'v3_58.xml', 'v3_59.xml', 'v3_6.xml', 'v3_60.xml', 'v3_61.xml', 'v3_62.xml', 'v3_63.xml', 'v3_64.xml', 'v3_65.xml', 'v3_66.xml', 'v3_67.xml', 'v3_68.xml', 'v3_69.xml', 'v3_7.xml', 'v3_8.xml', 'v3_9.xml']\n",
      "['v4_0.xml', 'v4_1.xml', 'v4_10.xml', 'v4_11.xml', 'v4_12.xml', 'v4_13.xml', 'v4_14.xml', 'v4_15.xml', 'v4_16.xml', 'v4_17.xml', 'v4_18.xml', 'v4_19.xml', 'v4_2.xml', 'v4_20.xml', 'v4_21.xml', 'v4_22.xml', 'v4_23.xml', 'v4_24.xml', 'v4_25.xml', 'v4_26.xml', 'v4_27.xml', 'v4_28.xml', 'v4_29.xml', 'v4_3.xml', 'v4_30.xml', 'v4_31.xml', 'v4_32.xml', 'v4_33.xml', 'v4_34.xml', 'v4_35.xml', 'v4_36.xml', 'v4_37.xml', 'v4_38.xml', 'v4_39.xml', 'v4_4.xml', 'v4_40.xml', 'v4_41.xml', 'v4_42.xml', 'v4_43.xml', 'v4_44.xml', 'v4_45.xml', 'v4_46.xml', 'v4_47.xml', 'v4_48.xml', 'v4_49.xml', 'v4_5.xml', 'v4_50.xml', 'v4_51.xml', 'v4_52.xml', 'v4_53.xml', 'v4_54.xml', 'v4_55.xml', 'v4_56.xml', 'v4_57.xml', 'v4_58.xml', 'v4_6.xml', 'v4_7.xml', 'v4_8.xml', 'v4_9.xml']\n",
      "['v9_0.xml', 'v9_1.xml', 'v9_10.xml', 'v9_100.xml', 'v9_101.xml', 'v9_102.xml', 'v9_103.xml', 'v9_104.xml', 'v9_105.xml', 'v9_106.xml', 'v9_107.xml', 'v9_108.xml', 'v9_109.xml', 'v9_11.xml', 'v9_110.xml', 'v9_111.xml', 'v9_112.xml', 'v9_113.xml', 'v9_114.xml', 'v9_115.xml', 'v9_116.xml', 'v9_117.xml', 'v9_118.xml', 'v9_119.xml', 'v9_12.xml', 'v9_120.xml', 'v9_121.xml', 'v9_122.xml', 'v9_123.xml', 'v9_124.xml', 'v9_125.xml', 'v9_126.xml', 'v9_127.xml', 'v9_128.xml', 'v9_129.xml', 'v9_13.xml', 'v9_130.xml', 'v9_131.xml', 'v9_132.xml', 'v9_133.xml', 'v9_134.xml', 'v9_135.xml', 'v9_136.xml', 'v9_137.xml', 'v9_138.xml', 'v9_139.xml', 'v9_14.xml', 'v9_140.xml', 'v9_141.xml', 'v9_142.xml', 'v9_143.xml', 'v9_144.xml', 'v9_145.xml', 'v9_146.xml', 'v9_147.xml', 'v9_148.xml', 'v9_149.xml', 'v9_15.xml', 'v9_150.xml', 'v9_151.xml', 'v9_152.xml', 'v9_153.xml', 'v9_154.xml', 'v9_155.xml', 'v9_156.xml', 'v9_157.xml', 'v9_158.xml', 'v9_159.xml', 'v9_16.xml', 'v9_160.xml', 'v9_161.xml', 'v9_162.xml', 'v9_163.xml', 'v9_164.xml', 'v9_165.xml', 'v9_166.xml', 'v9_167.xml', 'v9_168.xml', 'v9_169.xml', 'v9_17.xml', 'v9_170.xml', 'v9_171.xml', 'v9_172.xml', 'v9_173.xml', 'v9_174.xml', 'v9_175.xml', 'v9_176.xml', 'v9_177.xml', 'v9_178.xml', 'v9_179.xml', 'v9_18.xml', 'v9_180.xml', 'v9_181.xml', 'v9_182.xml', 'v9_183.xml', 'v9_184.xml', 'v9_185.xml', 'v9_186.xml', 'v9_187.xml', 'v9_188.xml', 'v9_19.xml', 'v9_2.xml', 'v9_20.xml', 'v9_21.xml', 'v9_22.xml', 'v9_23.xml', 'v9_24.xml', 'v9_25.xml', 'v9_26.xml', 'v9_27.xml', 'v9_28.xml', 'v9_29.xml', 'v9_3.xml', 'v9_30.xml', 'v9_31.xml', 'v9_32.xml', 'v9_33.xml', 'v9_34.xml', 'v9_35.xml', 'v9_36.xml', 'v9_37.xml', 'v9_38.xml', 'v9_39.xml', 'v9_4.xml', 'v9_40.xml', 'v9_41.xml', 'v9_42.xml', 'v9_43.xml', 'v9_44.xml', 'v9_45.xml', 'v9_46.xml', 'v9_47.xml', 'v9_48.xml', 'v9_49.xml', 'v9_5.xml', 'v9_50.xml', 'v9_51.xml', 'v9_52.xml', 'v9_53.xml', 'v9_54.xml', 'v9_55.xml', 'v9_56.xml', 'v9_57.xml', 'v9_58.xml', 'v9_59.xml', 'v9_6.xml', 'v9_60.xml', 'v9_61.xml', 'v9_62.xml', 'v9_63.xml', 'v9_64.xml', 'v9_65.xml', 'v9_66.xml', 'v9_67.xml', 'v9_68.xml', 'v9_69.xml', 'v9_7.xml', 'v9_70.xml', 'v9_71.xml', 'v9_72.xml', 'v9_73.xml', 'v9_74.xml', 'v9_75.xml', 'v9_76.xml', 'v9_77.xml', 'v9_78.xml', 'v9_79.xml', 'v9_8.xml', 'v9_82.xml', 'v9_83.xml', 'v9_84.xml', 'v9_85.xml', 'v9_86.xml', 'v9_87.xml', 'v9_88.xml', 'v9_89.xml', 'v9_9.xml', 'v9_90.xml', 'v9_91.xml', 'v9_92.xml', 'v9_93.xml', 'v9_94.xml', 'v9_95.xml', 'v9_96.xml', 'v9_97.xml', 'v9_98.xml', 'v9_99.xml']\n"
     ]
    },
    {
     "name": "stdout",
     "output_type": "stream",
     "text": [
      "['v10_0.xml', 'v10_1.xml', 'v10_10.xml', 'v10_11.xml', 'v10_12.xml', 'v10_13.xml', 'v10_14.xml', 'v10_15.xml', 'v10_16.xml', 'v10_17.xml', 'v10_18.xml', 'v10_19.xml', 'v10_2.xml', 'v10_20.xml', 'v10_21.xml', 'v10_22.xml', 'v10_23.xml', 'v10_24.xml', 'v10_25.xml', 'v10_26.xml', 'v10_27.xml', 'v10_28.xml', 'v10_29.xml', 'v10_3.xml', 'v10_30.xml', 'v10_31.xml', 'v10_32.xml', 'v10_33.xml', 'v10_34.xml', 'v10_35.xml', 'v10_36.xml', 'v10_37.xml', 'v10_38.xml', 'v10_39.xml', 'v10_4.xml', 'v10_40.xml', 'v10_41.xml', 'v10_42.xml', 'v10_43.xml', 'v10_44.xml', 'v10_45.xml', 'v10_46.xml', 'v10_47.xml', 'v10_48.xml', 'v10_49.xml', 'v10_5.xml', 'v10_50.xml', 'v10_51.xml', 'v10_52.xml', 'v10_53.xml', 'v10_54.xml', 'v10_55.xml', 'v10_56.xml', 'v10_57.xml', 'v10_58.xml', 'v10_59.xml', 'v10_6.xml', 'v10_60.xml', 'v10_61.xml', 'v10_7.xml', 'v10_8.xml', 'v10_9.xml']\n",
      "['v17_0.xml', 'v17_1.xml', 'v17_10.xml', 'v17_100.xml', 'v17_101.xml', 'v17_102.xml', 'v17_103.xml', 'v17_104.xml', 'v17_105.xml', 'v17_106.xml', 'v17_107.xml', 'v17_108.xml', 'v17_109.xml', 'v17_11.xml', 'v17_110.xml', 'v17_111.xml', 'v17_112.xml', 'v17_113.xml', 'v17_114.xml', 'v17_115.xml', 'v17_116.xml', 'v17_117.xml', 'v17_118.xml', 'v17_119.xml', 'v17_12.xml', 'v17_120.xml', 'v17_121.xml', 'v17_122.xml', 'v17_123.xml', 'v17_124.xml', 'v17_125.xml', 'v17_126.xml', 'v17_127.xml', 'v17_128.xml', 'v17_129.xml', 'v17_13.xml', 'v17_130.xml', 'v17_131.xml', 'v17_132.xml', 'v17_133.xml', 'v17_134.xml', 'v17_135.xml', 'v17_136.xml', 'v17_137.xml', 'v17_138.xml', 'v17_139.xml', 'v17_14.xml', 'v17_140.xml', 'v17_141.xml', 'v17_142.xml', 'v17_143.xml', 'v17_144.xml', 'v17_145.xml', 'v17_146.xml', 'v17_147.xml', 'v17_148.xml', 'v17_149.xml', 'v17_15.xml', 'v17_150.xml', 'v17_151.xml', 'v17_152.xml', 'v17_153.xml', 'v17_154.xml', 'v17_155.xml', 'v17_156.xml', 'v17_157.xml', 'v17_158.xml', 'v17_159.xml', 'v17_16.xml', 'v17_160.xml', 'v17_161.xml', 'v17_162.xml', 'v17_163.xml', 'v17_164.xml', 'v17_165.xml', 'v17_166.xml', 'v17_167.xml', 'v17_168.xml', 'v17_169.xml', 'v17_17.xml', 'v17_170.xml', 'v17_171.xml', 'v17_172.xml', 'v17_173.xml', 'v17_174.xml', 'v17_175.xml', 'v17_176.xml', 'v17_177.xml', 'v17_178.xml', 'v17_179.xml', 'v17_18.xml', 'v17_180.xml', 'v17_181.xml', 'v17_182.xml', 'v17_183.xml', 'v17_184.xml', 'v17_185.xml', 'v17_186.xml', 'v17_187.xml', 'v17_188.xml', 'v17_189.xml', 'v17_19.xml', 'v17_190.xml', 'v17_191.xml', 'v17_192.xml', 'v17_193.xml', 'v17_194.xml', 'v17_195.xml', 'v17_196.xml', 'v17_197.xml', 'v17_198.xml', 'v17_199.xml', 'v17_2.xml', 'v17_20.xml', 'v17_200.xml', 'v17_201.xml', 'v17_202.xml', 'v17_203.xml', 'v17_204.xml', 'v17_205.xml', 'v17_206.xml', 'v17_207.xml', 'v17_208.xml', 'v17_209.xml', 'v17_21.xml', 'v17_210.xml', 'v17_211.xml', 'v17_212.xml', 'v17_213.xml', 'v17_214.xml', 'v17_215.xml', 'v17_216.xml', 'v17_217.xml', 'v17_218.xml', 'v17_219.xml', 'v17_22.xml', 'v17_220.xml', 'v17_221.xml', 'v17_222.xml', 'v17_223.xml', 'v17_224.xml', 'v17_225.xml', 'v17_226.xml', 'v17_227.xml', 'v17_228.xml', 'v17_229.xml', 'v17_23.xml', 'v17_230.xml', 'v17_231.xml', 'v17_232.xml', 'v17_233.xml', 'v17_234.xml', 'v17_235.xml', 'v17_236.xml', 'v17_237.xml', 'v17_238.xml', 'v17_239.xml', 'v17_24.xml', 'v17_240.xml', 'v17_241.xml', 'v17_242.xml', 'v17_243.xml', 'v17_244.xml', 'v17_245.xml', 'v17_246.xml', 'v17_247.xml', 'v17_248.xml', 'v17_249.xml', 'v17_25.xml', 'v17_250.xml', 'v17_251.xml', 'v17_252.xml', 'v17_253.xml', 'v17_254.xml', 'v17_255.xml', 'v17_256.xml', 'v17_257.xml', 'v17_258.xml', 'v17_259.xml', 'v17_26.xml', 'v17_260.xml', 'v17_261.xml', 'v17_262.xml', 'v17_263.xml', 'v17_264.xml', 'v17_265.xml', 'v17_266.xml', 'v17_267.xml', 'v17_268.xml', 'v17_269.xml', 'v17_27.xml', 'v17_270.xml', 'v17_271.xml', 'v17_272.xml', 'v17_273.xml', 'v17_274.xml', 'v17_275.xml', 'v17_276.xml', 'v17_277.xml', 'v17_278.xml', 'v17_279.xml', 'v17_28.xml', 'v17_280.xml', 'v17_281.xml', 'v17_282.xml', 'v17_283.xml', 'v17_284.xml', 'v17_285.xml', 'v17_286.xml', 'v17_287.xml', 'v17_288.xml', 'v17_289.xml', 'v17_29.xml', 'v17_290.xml', 'v17_291.xml', 'v17_292.xml', 'v17_293.xml', 'v17_294.xml', 'v17_295.xml', 'v17_296.xml', 'v17_297.xml', 'v17_298.xml', 'v17_299.xml', 'v17_3.xml', 'v17_30.xml', 'v17_300.xml', 'v17_301.xml', 'v17_302.xml', 'v17_303.xml', 'v17_304.xml', 'v17_305.xml', 'v17_306.xml', 'v17_307.xml', 'v17_308.xml', 'v17_309.xml', 'v17_31.xml', 'v17_310.xml', 'v17_311.xml', 'v17_312.xml', 'v17_313.xml', 'v17_314.xml', 'v17_315.xml', 'v17_316.xml', 'v17_317.xml', 'v17_318.xml', 'v17_319.xml', 'v17_32.xml', 'v17_320.xml', 'v17_321.xml', 'v17_322.xml', 'v17_323.xml', 'v17_324.xml', 'v17_325.xml', 'v17_326.xml', 'v17_327.xml', 'v17_328.xml', 'v17_329.xml', 'v17_33.xml', 'v17_330.xml', 'v17_331.xml', 'v17_332.xml', 'v17_333.xml', 'v17_334.xml', 'v17_335.xml', 'v17_336.xml', 'v17_337.xml', 'v17_338.xml', 'v17_339.xml', 'v17_34.xml', 'v17_340.xml', 'v17_341.xml', 'v17_342.xml', 'v17_343.xml', 'v17_344.xml', 'v17_345.xml', 'v17_346.xml', 'v17_347.xml', 'v17_348.xml', 'v17_349.xml', 'v17_35.xml', 'v17_350.xml', 'v17_351.xml', 'v17_352.xml', 'v17_353.xml', 'v17_354.xml', 'v17_355.xml', 'v17_356.xml', 'v17_357.xml', 'v17_358.xml', 'v17_359.xml', 'v17_36.xml', 'v17_360.xml', 'v17_361.xml', 'v17_37.xml', 'v17_38.xml', 'v17_39.xml', 'v17_4.xml', 'v17_40.xml', 'v17_41.xml', 'v17_42.xml', 'v17_43.xml', 'v17_44.xml', 'v17_45.xml', 'v17_46.xml', 'v17_47.xml', 'v17_48.xml', 'v17_49.xml', 'v17_5.xml', 'v17_50.xml', 'v17_51.xml', 'v17_52.xml', 'v17_53.xml', 'v17_54.xml', 'v17_55.xml', 'v17_56.xml', 'v17_57.xml', 'v17_58.xml', 'v17_59.xml', 'v17_6.xml', 'v17_60.xml', 'v17_61.xml', 'v17_62.xml', 'v17_63.xml', 'v17_64.xml', 'v17_65.xml', 'v17_66.xml', 'v17_67.xml', 'v17_68.xml', 'v17_69.xml', 'v17_7.xml', 'v17_70.xml', 'v17_71.xml', 'v17_72.xml', 'v17_73.xml', 'v17_74.xml', 'v17_75.xml', 'v17_76.xml', 'v17_77.xml', 'v17_78.xml', 'v17_79.xml', 'v17_8.xml', 'v17_80.xml', 'v17_81.xml', 'v17_82.xml', 'v17_83.xml', 'v17_84.xml', 'v17_85.xml', 'v17_86.xml', 'v17_87.xml', 'v17_88.xml', 'v17_89.xml', 'v17_9.xml', 'v17_90.xml', 'v17_91.xml', 'v17_92.xml', 'v17_93.xml', 'v17_94.xml', 'v17_95.xml', 'v17_96.xml', 'v17_97.xml', 'v17_98.xml', 'v17_99.xml']\n",
      "['v18_0.xml', 'v18_1.xml', 'v18_10.xml', 'v18_100.xml', 'v18_101.xml', 'v18_102.xml', 'v18_103.xml', 'v18_104.xml', 'v18_105.xml', 'v18_106.xml', 'v18_107.xml', 'v18_108.xml', 'v18_109.xml', 'v18_11.xml', 'v18_110.xml', 'v18_111.xml', 'v18_112.xml', 'v18_113.xml', 'v18_114.xml', 'v18_115.xml', 'v18_116.xml', 'v18_117.xml', 'v18_118.xml', 'v18_119.xml', 'v18_12.xml', 'v18_120.xml', 'v18_121.xml', 'v18_122.xml', 'v18_123.xml', 'v18_124.xml', 'v18_125.xml', 'v18_126.xml', 'v18_127.xml', 'v18_128.xml', 'v18_129.xml', 'v18_13.xml', 'v18_130.xml', 'v18_131.xml', 'v18_132.xml', 'v18_133.xml', 'v18_134.xml', 'v18_135.xml', 'v18_136.xml', 'v18_137.xml', 'v18_138.xml', 'v18_139.xml', 'v18_14.xml', 'v18_140.xml', 'v18_141.xml', 'v18_142.xml', 'v18_143.xml', 'v18_144.xml', 'v18_145.xml', 'v18_146.xml', 'v18_147.xml', 'v18_148.xml', 'v18_149.xml', 'v18_15.xml', 'v18_150.xml', 'v18_151.xml', 'v18_152.xml', 'v18_153.xml', 'v18_154.xml', 'v18_155.xml', 'v18_156.xml', 'v18_157.xml', 'v18_158.xml', 'v18_159.xml', 'v18_16.xml', 'v18_160.xml', 'v18_161.xml', 'v18_162.xml', 'v18_163.xml', 'v18_164.xml', 'v18_165.xml', 'v18_166.xml', 'v18_167.xml', 'v18_168.xml', 'v18_169.xml', 'v18_17.xml', 'v18_170.xml', 'v18_171.xml', 'v18_172.xml', 'v18_173.xml', 'v18_174.xml', 'v18_175.xml', 'v18_176.xml', 'v18_177.xml', 'v18_178.xml', 'v18_179.xml', 'v18_18.xml', 'v18_180.xml', 'v18_181.xml', 'v18_182.xml', 'v18_183.xml', 'v18_184.xml', 'v18_185.xml', 'v18_186.xml', 'v18_187.xml', 'v18_188.xml', 'v18_189.xml', 'v18_19.xml', 'v18_2.xml', 'v18_20.xml', 'v18_21.xml', 'v18_22.xml', 'v18_23.xml', 'v18_24.xml', 'v18_25.xml', 'v18_26.xml', 'v18_27.xml', 'v18_28.xml', 'v18_29.xml', 'v18_3.xml', 'v18_30.xml', 'v18_31.xml', 'v18_32.xml', 'v18_33.xml', 'v18_34.xml', 'v18_35.xml', 'v18_36.xml', 'v18_37.xml', 'v18_38.xml', 'v18_39.xml', 'v18_4.xml', 'v18_40.xml', 'v18_41.xml', 'v18_42.xml', 'v18_43.xml', 'v18_44.xml', 'v18_45.xml', 'v18_46.xml', 'v18_47.xml', 'v18_48.xml', 'v18_49.xml', 'v18_5.xml', 'v18_50.xml', 'v18_51.xml', 'v18_52.xml', 'v18_53.xml', 'v18_54.xml', 'v18_55.xml', 'v18_56.xml', 'v18_57.xml', 'v18_58.xml', 'v18_59.xml', 'v18_6.xml', 'v18_60.xml', 'v18_61.xml', 'v18_62.xml', 'v18_63.xml', 'v18_64.xml', 'v18_65.xml', 'v18_66.xml', 'v18_67.xml', 'v18_68.xml', 'v18_69.xml', 'v18_7.xml', 'v18_70.xml', 'v18_71.xml', 'v18_72.xml', 'v18_73.xml', 'v18_74.xml', 'v18_75.xml', 'v18_76.xml', 'v18_77.xml', 'v18_78.xml', 'v18_79.xml', 'v18_8.xml', 'v18_80.xml', 'v18_81.xml', 'v18_82.xml', 'v18_83.xml', 'v18_84.xml', 'v18_85.xml', 'v18_86.xml', 'v18_87.xml', 'v18_88.xml', 'v18_89.xml', 'v18_9.xml', 'v18_90.xml', 'v18_91.xml', 'v18_92.xml', 'v18_93.xml', 'v18_94.xml', 'v18_95.xml', 'v18_96.xml', 'v18_97.xml', 'v18_98.xml', 'v18_99.xml']\n",
      "['v19_0.xml', 'v19_1.xml', 'v19_10.xml', 'v19_100.xml', 'v19_101.xml', 'v19_102.xml', 'v19_103.xml', 'v19_104.xml', 'v19_105.xml', 'v19_106.xml', 'v19_107.xml', 'v19_108.xml', 'v19_109.xml', 'v19_11.xml', 'v19_110.xml', 'v19_111.xml', 'v19_112.xml', 'v19_113.xml', 'v19_114.xml', 'v19_115.xml', 'v19_116.xml', 'v19_117.xml', 'v19_118.xml', 'v19_119.xml', 'v19_12.xml', 'v19_13.xml', 'v19_14.xml', 'v19_15.xml', 'v19_16.xml', 'v19_17.xml', 'v19_18.xml', 'v19_19.xml', 'v19_2.xml', 'v19_20.xml', 'v19_21.xml', 'v19_22.xml', 'v19_23.xml', 'v19_24.xml', 'v19_25.xml', 'v19_26.xml', 'v19_27.xml', 'v19_28.xml', 'v19_29.xml', 'v19_3.xml', 'v19_30.xml', 'v19_31.xml', 'v19_32.xml', 'v19_33.xml', 'v19_34.xml', 'v19_35.xml', 'v19_36.xml', 'v19_37.xml', 'v19_38.xml', 'v19_39.xml', 'v19_4.xml', 'v19_40.xml', 'v19_41.xml', 'v19_42.xml', 'v19_43.xml', 'v19_44.xml', 'v19_45.xml', 'v19_46.xml', 'v19_47.xml', 'v19_48.xml', 'v19_49.xml', 'v19_5.xml', 'v19_50.xml', 'v19_51.xml', 'v19_52.xml', 'v19_53.xml', 'v19_54.xml', 'v19_55.xml', 'v19_56.xml', 'v19_57.xml', 'v19_58.xml', 'v19_59.xml', 'v19_6.xml', 'v19_60.xml', 'v19_61.xml', 'v19_62.xml', 'v19_63.xml', 'v19_64.xml', 'v19_65.xml', 'v19_66.xml', 'v19_67.xml', 'v19_68.xml', 'v19_69.xml', 'v19_7.xml', 'v19_70.xml', 'v19_71.xml', 'v19_72.xml', 'v19_73.xml', 'v19_74.xml', 'v19_75.xml', 'v19_76.xml', 'v19_77.xml', 'v19_78.xml', 'v19_79.xml', 'v19_8.xml', 'v19_80.xml', 'v19_81.xml', 'v19_82.xml', 'v19_83.xml', 'v19_84.xml', 'v19_85.xml', 'v19_86.xml', 'v19_87.xml', 'v19_88.xml', 'v19_89.xml', 'v19_9.xml', 'v19_90.xml', 'v19_91.xml', 'v19_92.xml', 'v19_93.xml', 'v19_94.xml', 'v19_95.xml', 'v19_96.xml', 'v19_97.xml', 'v19_98.xml', 'v19_99.xml']\n"
     ]
    },
    {
     "name": "stdout",
     "output_type": "stream",
     "text": [
      "['v21_0.xml', 'v21_1.xml', 'v21_10.xml', 'v21_100.xml', 'v21_101.xml', 'v21_102.xml', 'v21_103.xml', 'v21_104.xml', 'v21_105.xml', 'v21_106.xml', 'v21_107.xml', 'v21_108.xml', 'v21_109.xml', 'v21_11.xml', 'v21_110.xml', 'v21_111.xml', 'v21_112.xml', 'v21_113.xml', 'v21_114.xml', 'v21_115.xml', 'v21_116.xml', 'v21_117.xml', 'v21_118.xml', 'v21_119.xml', 'v21_12.xml', 'v21_120.xml', 'v21_121.xml', 'v21_122.xml', 'v21_123.xml', 'v21_124.xml', 'v21_125.xml', 'v21_126.xml', 'v21_127.xml', 'v21_128.xml', 'v21_129.xml', 'v21_13.xml', 'v21_130.xml', 'v21_131.xml', 'v21_132.xml', 'v21_133.xml', 'v21_134.xml', 'v21_135.xml', 'v21_136.xml', 'v21_137.xml', 'v21_138.xml', 'v21_139.xml', 'v21_14.xml', 'v21_140.xml', 'v21_141.xml', 'v21_142.xml', 'v21_143.xml', 'v21_144.xml', 'v21_145.xml', 'v21_146.xml', 'v21_147.xml', 'v21_148.xml', 'v21_149.xml', 'v21_15.xml', 'v21_150.xml', 'v21_151.xml', 'v21_152.xml', 'v21_153.xml', 'v21_154.xml', 'v21_155.xml', 'v21_156.xml', 'v21_157.xml', 'v21_158.xml', 'v21_159.xml', 'v21_16.xml', 'v21_160.xml', 'v21_161.xml', 'v21_162.xml', 'v21_163.xml', 'v21_164.xml', 'v21_165.xml', 'v21_166.xml', 'v21_167.xml', 'v21_168.xml', 'v21_169.xml', 'v21_17.xml', 'v21_170.xml', 'v21_171.xml', 'v21_172.xml', 'v21_173.xml', 'v21_174.xml', 'v21_175.xml', 'v21_176.xml', 'v21_177.xml', 'v21_178.xml', 'v21_179.xml', 'v21_18.xml', 'v21_180.xml', 'v21_181.xml', 'v21_182.xml', 'v21_183.xml', 'v21_184.xml', 'v21_185.xml', 'v21_186.xml', 'v21_187.xml', 'v21_188.xml', 'v21_189.xml', 'v21_19.xml', 'v21_2.xml', 'v21_20.xml', 'v21_21.xml', 'v21_22.xml', 'v21_23.xml', 'v21_24.xml', 'v21_25.xml', 'v21_26.xml', 'v21_27.xml', 'v21_28.xml', 'v21_29.xml', 'v21_3.xml', 'v21_30.xml', 'v21_31.xml', 'v21_32.xml', 'v21_33.xml', 'v21_34.xml', 'v21_35.xml', 'v21_36.xml', 'v21_37.xml', 'v21_38.xml', 'v21_39.xml', 'v21_4.xml', 'v21_40.xml', 'v21_41.xml', 'v21_42.xml', 'v21_43.xml', 'v21_44.xml', 'v21_45.xml', 'v21_46.xml', 'v21_47.xml', 'v21_48.xml', 'v21_49.xml', 'v21_5.xml', 'v21_50.xml', 'v21_51.xml', 'v21_52.xml', 'v21_53.xml', 'v21_54.xml', 'v21_55.xml', 'v21_56.xml', 'v21_57.xml', 'v21_58.xml', 'v21_59.xml', 'v21_6.xml', 'v21_60.xml', 'v21_61.xml', 'v21_62.xml', 'v21_63.xml', 'v21_64.xml', 'v21_65.xml', 'v21_66.xml', 'v21_67.xml', 'v21_68.xml', 'v21_69.xml', 'v21_7.xml', 'v21_70.xml', 'v21_71.xml', 'v21_72.xml', 'v21_73.xml', 'v21_74.xml', 'v21_75.xml', 'v21_76.xml', 'v21_77.xml', 'v21_78.xml', 'v21_79.xml', 'v21_8.xml', 'v21_80.xml', 'v21_81.xml', 'v21_82.xml', 'v21_83.xml', 'v21_84.xml', 'v21_85.xml', 'v21_86.xml', 'v21_87.xml', 'v21_88.xml', 'v21_89.xml', 'v21_9.xml', 'v21_90.xml', 'v21_91.xml', 'v21_92.xml', 'v21_93.xml', 'v21_94.xml', 'v21_95.xml', 'v21_96.xml', 'v21_97.xml', 'v21_98.xml', 'v21_99.xml']\n",
      "['v22_0.xml', 'v22_1.xml', 'v22_10.xml', 'v22_100.xml', 'v22_101.xml', 'v22_102.xml', 'v22_103.xml', 'v22_104.xml', 'v22_105.xml', 'v22_106.xml', 'v22_107.xml', 'v22_108.xml', 'v22_109.xml', 'v22_11.xml', 'v22_110.xml', 'v22_111.xml', 'v22_112.xml', 'v22_113.xml', 'v22_114.xml', 'v22_118.xml', 'v22_119.xml', 'v22_12.xml', 'v22_120.xml', 'v22_121.xml', 'v22_122.xml', 'v22_123.xml', 'v22_124.xml', 'v22_125.xml', 'v22_126.xml', 'v22_127.xml', 'v22_128.xml', 'v22_129.xml', 'v22_13.xml', 'v22_130.xml', 'v22_131.xml', 'v22_132.xml', 'v22_133.xml', 'v22_134.xml', 'v22_135.xml', 'v22_136.xml', 'v22_14.xml', 'v22_15.xml', 'v22_16.xml', 'v22_17.xml', 'v22_18.xml', 'v22_19.xml', 'v22_2.xml', 'v22_20.xml', 'v22_21.xml', 'v22_22.xml', 'v22_23.xml', 'v22_24.xml', 'v22_25.xml', 'v22_26.xml', 'v22_27.xml', 'v22_28.xml', 'v22_29.xml', 'v22_3.xml', 'v22_30.xml', 'v22_31.xml', 'v22_32.xml', 'v22_33.xml', 'v22_34.xml', 'v22_35.xml', 'v22_36.xml', 'v22_37.xml', 'v22_38.xml', 'v22_39.xml', 'v22_4.xml', 'v22_40.xml', 'v22_41.xml', 'v22_42.xml', 'v22_43.xml', 'v22_44.xml', 'v22_45.xml', 'v22_46.xml', 'v22_47.xml', 'v22_48.xml', 'v22_49.xml', 'v22_5.xml', 'v22_50.xml', 'v22_51.xml', 'v22_52.xml', 'v22_53.xml', 'v22_54.xml', 'v22_55.xml', 'v22_56.xml', 'v22_57.xml', 'v22_58.xml', 'v22_59.xml', 'v22_6.xml', 'v22_60.xml', 'v22_61.xml', 'v22_62.xml', 'v22_63.xml', 'v22_64.xml', 'v22_65.xml', 'v22_66.xml', 'v22_67.xml', 'v22_68.xml', 'v22_69.xml', 'v22_7.xml', 'v22_70.xml', 'v22_71.xml', 'v22_72.xml', 'v22_73.xml', 'v22_74.xml', 'v22_75.xml', 'v22_76.xml', 'v22_77.xml', 'v22_78.xml', 'v22_79.xml', 'v22_8.xml', 'v22_80.xml', 'v22_81.xml', 'v22_82.xml', 'v22_83.xml', 'v22_84.xml', 'v22_85.xml', 'v22_86.xml', 'v22_87.xml', 'v22_88.xml', 'v22_89.xml', 'v22_9.xml', 'v22_90.xml', 'v22_91.xml', 'v22_92.xml', 'v22_93.xml', 'v22_94.xml', 'v22_95.xml', 'v22_96.xml', 'v22_97.xml', 'v22_98.xml', 'v22_99.xml']\n",
      "['v25_0.xml', 'v25_1.xml', 'v25_10.xml', 'v25_11.xml', 'v25_12.xml', 'v25_13.xml', 'v25_14.xml', 'v25_15.xml', 'v25_16.xml', 'v25_17.xml', 'v25_18.xml', 'v25_19.xml', 'v25_2.xml', 'v25_20.xml', 'v25_21.xml', 'v25_22.xml', 'v25_23.xml', 'v25_24.xml', 'v25_25.xml', 'v25_26.xml', 'v25_27.xml', 'v25_28.xml', 'v25_29.xml', 'v25_3.xml', 'v25_30.xml', 'v25_31.xml', 'v25_32.xml', 'v25_33.xml', 'v25_34.xml', 'v25_35.xml', 'v25_36.xml', 'v25_37.xml', 'v25_38.xml', 'v25_39.xml', 'v25_4.xml', 'v25_40.xml', 'v25_41.xml', 'v25_42.xml', 'v25_43.xml', 'v25_44.xml', 'v25_45.xml', 'v25_46.xml', 'v25_47.xml', 'v25_48.xml', 'v25_49.xml', 'v25_5.xml', 'v25_50.xml', 'v25_51.xml', 'v25_52.xml', 'v25_53.xml', 'v25_54.xml', 'v25_55.xml', 'v25_56.xml', 'v25_57.xml', 'v25_58.xml', 'v25_59.xml', 'v25_6.xml', 'v25_60.xml', 'v25_61.xml', 'v25_62.xml', 'v25_63.xml', 'v25_64.xml', 'v25_65.xml', 'v25_66.xml', 'v25_67.xml', 'v25_68.xml', 'v25_69.xml', 'v25_7.xml', 'v25_70.xml', 'v25_71.xml', 'v25_72.xml', 'v25_73.xml', 'v25_74.xml', 'v25_75.xml', 'v25_76.xml', 'v25_77.xml', 'v25_78.xml', 'v25_79.xml', 'v25_8.xml', 'v25_9.xml']\n",
      "['v26_0.xml', 'v26_1.xml', 'v26_10.xml', 'v26_11.xml', 'v26_12.xml', 'v26_13.xml', 'v26_14.xml', 'v26_15.xml', 'v26_16.xml', 'v26_17.xml', 'v26_18.xml', 'v26_19.xml', 'v26_2.xml', 'v26_20.xml', 'v26_21.xml', 'v26_22.xml', 'v26_23.xml', 'v26_24.xml', 'v26_25.xml', 'v26_26.xml', 'v26_27.xml', 'v26_28.xml', 'v26_29.xml', 'v26_3.xml', 'v26_30.xml', 'v26_31.xml', 'v26_32.xml', 'v26_33.xml', 'v26_34.xml', 'v26_35.xml', 'v26_36.xml', 'v26_37.xml', 'v26_38.xml', 'v26_39.xml', 'v26_4.xml', 'v26_40.xml', 'v26_41.xml', 'v26_42.xml', 'v26_43.xml', 'v26_44.xml', 'v26_45.xml', 'v26_46.xml', 'v26_47.xml', 'v26_48.xml', 'v26_49.xml', 'v26_5.xml', 'v26_50.xml', 'v26_51.xml', 'v26_52.xml', 'v26_53.xml', 'v26_6.xml', 'v26_7.xml', 'v26_8.xml', 'v26_9.xml']\n",
      "['v28_0.xml', 'v28_1.xml', 'v28_10.xml', 'v28_100.xml', 'v28_101.xml', 'v28_102.xml', 'v28_103.xml', 'v28_104.xml', 'v28_105.xml', 'v28_106.xml', 'v28_107.xml', 'v28_108.xml', 'v28_109.xml', 'v28_11.xml', 'v28_110.xml', 'v28_111.xml', 'v28_112.xml', 'v28_113.xml', 'v28_114.xml', 'v28_115.xml', 'v28_116.xml', 'v28_117.xml', 'v28_118.xml', 'v28_119.xml', 'v28_12.xml', 'v28_120.xml', 'v28_121.xml', 'v28_122.xml', 'v28_123.xml', 'v28_124.xml', 'v28_125.xml', 'v28_126.xml', 'v28_127.xml', 'v28_128.xml', 'v28_129.xml', 'v28_13.xml', 'v28_130.xml', 'v28_14.xml', 'v28_15.xml', 'v28_2.xml', 'v28_3.xml', 'v28_4.xml', 'v28_5.xml', 'v28_53.xml', 'v28_54.xml', 'v28_55.xml', 'v28_56.xml', 'v28_57.xml', 'v28_58.xml', 'v28_59.xml', 'v28_6.xml', 'v28_60.xml', 'v28_61.xml', 'v28_62.xml', 'v28_63.xml', 'v28_64.xml', 'v28_65.xml', 'v28_66.xml', 'v28_67.xml', 'v28_68.xml', 'v28_69.xml', 'v28_7.xml', 'v28_70.xml', 'v28_71.xml', 'v28_72.xml', 'v28_73.xml', 'v28_74.xml', 'v28_75.xml', 'v28_76.xml', 'v28_77.xml', 'v28_78.xml', 'v28_79.xml', 'v28_8.xml', 'v28_80.xml', 'v28_81.xml', 'v28_82.xml', 'v28_83.xml', 'v28_84.xml', 'v28_85.xml', 'v28_86.xml', 'v28_87.xml', 'v28_88.xml', 'v28_89.xml', 'v28_9.xml', 'v28_90.xml', 'v28_91.xml', 'v28_92.xml', 'v28_93.xml', 'v28_94.xml', 'v28_95.xml', 'v28_96.xml', 'v28_97.xml', 'v28_98.xml', 'v28_99.xml']\n"
     ]
    }
   ],
   "source": [
    "import cv2\n",
    "import os\n",
    "import xml.etree.ElementTree as ET\n",
    "\n",
    "\n",
    "def resizeLabel(files, xmlPath, newXmlPath):\n",
    "    if not os.path.exists(newXmlPath):\n",
    "        os.makedirs(newXmlPath)\n",
    "    \n",
    "    for xml_file in files:\n",
    "        if xml_file[-1] == 't':\n",
    "            continue\n",
    "        tree = ET.parse(xmlPath + '/' + xml_file)\n",
    "        new_file = newXmlPath + '/' + xml_file\n",
    "        \n",
    "        # bounding box 변경\n",
    "        objects = tree.findall('./object')\n",
    "        for i, object_ in enumerate(objects):\n",
    "            bndbox = object_.find('./bndbox')\n",
    "            bndbox.find('./xmin').text = str(int(float(bndbox.find('./xmin').text) * 5))\n",
    "            bndbox.find('./ymin').text = str(int(float(bndbox.find('./ymin').text) * 5))\n",
    "            bndbox.find('./xmax').text = str(int(float(bndbox.find('./xmax').text) * 5))\n",
    "            bndbox.find('./ymax').text = str(int(float(bndbox.find('./ymax').text) * 5))\n",
    "        tree.write(new_file, encoding='utf8')\n",
    "\n",
    "        \n",
    "r_xml_dir = [r'./xml/v1', r'./xml/v2', r'./xml/v3', r'./xml/v4', r'./xml/v9', r'./xml/v10', r'./xml/v17', r'./xml/v18',\n",
    "             r'./xml/v19', r'./xml/v21', r'./xml/v22', r'./xml/v25', r'./xml/v26', r'./xml/v28']\n",
    "\n",
    "new_r_xml_dir = [r'./upsize_xml/v1', r'./upsize_xml/v2', r'./upsize_xml/v3', r'./upsize_xml/v4', r'./upsize_xml/v9',\n",
    "                 r'./upsize_xml/v10', r'./upsize_xml/v17', r'./upsize_xml/v18', r'./upsize_xml/v19', r'./upsize_xml/v21',\n",
    "                 r'./upsize_xml/v22', r'./upsize_xml/v25', r'./upsize_xml/v26', r'./upsize_xml/v28']\n",
    "\n",
    "for i, xml_path in enumerate(r_xml_dir):\n",
    "    new_xml_path = r'./origin_img_xml' #new_r_xml_dir[i]\n",
    "    xml_files = os.listdir(xml_path)\n",
    "    \n",
    "    print(xml_files)\n",
    "    \n",
    "    resizeLabel(xml_files, xml_path, new_xml_path)"
   ]
  },
  {
   "cell_type": "code",
   "execution_count": 1,
   "id": "45146646",
   "metadata": {},
   "outputs": [],
   "source": [
    "# xml to yolo\n",
    "def xml_to_yolo_bbox(bbox, w, h):\n",
    "    # xmin, ymin, xmax, ymax\n",
    "    x_center = ((bbox[2] + bbox[0]) / 2) / w\n",
    "    y_center = ((bbox[3] + bbox[1]) / 2) / h\n",
    "    width = (bbox[2] - bbox[0]) / w\n",
    "    height = (bbox[3] - bbox[1]) / h\n",
    "    return [x_center, y_center, width, height]\n",
    "\n",
    "\n",
    "def yolo_to_xml_bbox(bbox, w, h):\n",
    "    # x_center, y_center width heigth\n",
    "    w_half_len = (bbox[2] * w) / 2\n",
    "    h_half_len = (bbox[3] * h) / 2\n",
    "    xmin = int((bbox[0] * w) - w_half_len)\n",
    "    ymin = int((bbox[1] * h) - h_half_len)\n",
    "    xmax = int((bbox[0] * w) + w_half_len)\n",
    "    ymax = int((bbox[1] * h) + h_half_len)\n",
    "    return [xmin, ymin, xmax, ymax]"
   ]
  },
  {
   "cell_type": "code",
   "execution_count": 2,
   "id": "9ff620fc",
   "metadata": {},
   "outputs": [
    {
     "name": "stdout",
     "output_type": "stream",
     "text": [
      "v10_0.xml\n"
     ]
    },
    {
     "ename": "ParseError",
     "evalue": "not well-formed (invalid token): line 1, column 1 (<string>)",
     "output_type": "error",
     "traceback": [
      "Traceback \u001b[1;36m(most recent call last)\u001b[0m:\n",
      "  File \u001b[0;32m~\\Anaconda3\\lib\\site-packages\\IPython\\core\\interactiveshell.py:3369\u001b[0m in \u001b[0;35mrun_code\u001b[0m\n    exec(code_obj, self.user_global_ns, self.user_ns)\n",
      "  Input \u001b[0;32mIn [2]\u001b[0m in \u001b[0;35m<cell line: 35>\u001b[0m\n    xml_to_yolo_file(xml_files, xml_path, newYoloPath)\n",
      "  Input \u001b[0;32mIn [2]\u001b[0m in \u001b[0;35mxml_to_yolo_file\u001b[0m\n    root = ET.fromstring(whole_path)\n",
      "\u001b[1;36m  File \u001b[1;32m~\\Anaconda3\\lib\\xml\\etree\\ElementTree.py:1349\u001b[1;36m in \u001b[1;35mXML\u001b[1;36m\u001b[0m\n\u001b[1;33m    parser.feed(text)\u001b[0m\n",
      "\u001b[1;36m  File \u001b[1;32m<string>\u001b[1;36m\u001b[0m\n\u001b[1;31mParseError\u001b[0m\u001b[1;31m:\u001b[0m not well-formed (invalid token): line 1, column 1\n"
     ]
    }
   ],
   "source": [
    "import cv2\n",
    "import os\n",
    "import xml.etree.ElementTree as ET\n",
    "\n",
    "def xml_to_yolo_file(xml_files, xml_path, newYoloPath):\n",
    "    if not os.path.exists(newYoloPath):\n",
    "        os.makedirs(newYoloPath)\n",
    "    classes = ['deer', 'beam', 'gcooter', 'others']\n",
    "    \n",
    "    for xml_file in xml_files:\n",
    "        whole_path = xml_path + '/' + xml_file\n",
    "        #tree = ET.parse('C:\\\\Users\\\\174910\\\\Documents\\\\Python Scripts\\\\annotations\\\\' + xml_file)\n",
    "        #tree = ET.parse(whole_path)\n",
    "        #root = tree.getroot()\n",
    "        root = ET.fromstring(whole_path)\n",
    "        new_yolo_file = newYoloPath + '/' + xml_file.spilt('.')[0] + '.txt'\n",
    "        \n",
    "        # bounding box 변경\n",
    "        objects = root.findall('./object')\n",
    "        for i, object_ in enumerate(objects):\n",
    "            class_name = object_.find('./name')\n",
    "            bndbox = object_.find('./bndbox')\n",
    "            w, h = 480, 852\n",
    "            \n",
    "            result = classes.index(class_name)\n",
    "            result = result + xml_to_yolo_bbox(bbox, w, h)      \n",
    "        tree.write(new_yolo_file, encoding='utf8')\n",
    "\n",
    "newYoloPath = r'./labels'\n",
    "xml_path = r'./annotations'\n",
    "xml_files = os.listdir(xml_path)\n",
    "\n",
    "print(xml_files[0])\n",
    "\n",
    "xml_to_yolo_file(xml_files, xml_path, newYoloPath)"
   ]
  },
  {
   "cell_type": "markdown",
   "id": "07aeb7c4",
   "metadata": {},
   "source": [
    "### test 코드"
   ]
  },
  {
   "cell_type": "code",
   "execution_count": null,
   "id": "9fd36129",
   "metadata": {},
   "outputs": [],
   "source": [
    "import xml.etree.ElementTree as ET\n",
    "from xml.etree.ElementTree import Element, dump, ElementTree\n",
    "\n",
    "xml_file = 'D:\\\\test.xml'\n",
    "doc = ET.parse(xml_file)\n",
    "\n",
    "#root 노드 가져오기\n",
    "root = doc.getroot()\n",
    "\n",
    "size_tag = root.findall(\"size\")\n",
    "print(size_tag[0].find(\"width\").text)\n",
    "\n",
    "for object in root.iter(\"object\"):\n",
    "    print(object.find(\"bndbox\").findtext(\"xmin\"))"
   ]
  },
  {
   "cell_type": "code",
   "execution_count": 172,
   "id": "341069b4",
   "metadata": {},
   "outputs": [
    {
     "name": "stdout",
     "output_type": "stream",
     "text": [
      "[[0, 1, 2, 3], [0, 1, 2, 3], [0, 1, 2, 3], [0, 1, 2, 3], [0, 1, 2, 3], [0, 1, 2, 3], [0, 1, 2, 3]]\n",
      "[0, 1, 2, 3]\n",
      "[[1, 2, 3, 4], [11, 12, 13, 14], [21, 22, 23, 24], [31, 32, 33, 34], [41, 42, 43, 44], [51, 52, 53, 54], [61, 62, 63, 64]]\n",
      "[1, 2, 3, 4]\n"
     ]
    }
   ],
   "source": [
    "tmp1 = [[i for i in range(4)]] * 7\n",
    "tmp2 = [[1,2,3,4], [11,12,13,14], [21,22,23,24], [31,32,33,34], [41,42,43,44], [51,52,53,54], [61,62,63,64]]\n",
    "\n",
    "print(tmp1)\n",
    "print(tmp1[0])\n",
    "print(tmp2)\n",
    "print(tmp2[0])\n",
    "\n",
    "# 이미지 재조정한 비율 저장\n",
    "# 좌표 위치를 비율로 나누기"
   ]
  },
  {
   "cell_type": "raw",
   "id": "01462a33",
   "metadata": {},
   "source": [
    "import xml.etree.ElementTree as ET\n",
    "from xml.etree.ElementTree import Element, dump, ElementTree\n",
    "\n",
    "# 파일들의 [xmin, ymin, xmsx, ymax] 가 저장된 boxes 저장\n",
    "def getRectFromXML(dir_path, files):\n",
    "    boxes = [[0] * 4] * len(files)\n",
    "    print(boxes)\n",
    "    \n",
    "    for i, file in enumerate(files):\n",
    "        xml_file = dir_path + '/' + file\n",
    "        tree = ET.parse(xml_file)\n",
    "        \n",
    "        objects = tree.findall('./object')\n",
    "        \n",
    "        for object_ in objects:\n",
    "            \n",
    "            bndbox = object_.find('./bndbox')\n",
    "            boxes[i][0] = bndbox.find('./xmin').text\n",
    "            boxes[i][1] = bndbox.find('./ymin').text\n",
    "            boxes[i][2] = bndbox.find('./xmax').text\n",
    "            boxes[i][3] = bndbox.find('./ymax').text\n",
    "            print(i, boxes)\n",
    "        \n",
    "        #print(boxes)\n",
    "    \n",
    "    return boxes"
   ]
  },
  {
   "cell_type": "raw",
   "id": "c8c1cec6",
   "metadata": {},
   "source": [
    "import xml.etree.ElementTree as ET\n",
    "from xml.etree.ElementTree import Element, dump, ElementTree\n",
    "\n",
    "# 파일들의 [xmin, ymin, xmsx, ymax] 가 저장된 boxes 저장\n",
    "def getRectFromXML(dir_path, files):\n",
    "    boxes = [[0] * 4] * len(files)\n",
    "    print(boxes)\n",
    "    \n",
    "    for file in files:\n",
    "        xml_file = dir_path + '/' + file\n",
    "        tree = ET.parse(xml_file)\n",
    "        \n",
    "        objects = tree.findall('./object')\n",
    "        \n",
    "        for i, object_ in enumerate(objects):\n",
    "            \n",
    "            bndbox = object_.find('./bndbox')\n",
    "            boxes[i][0] = bndbox.find('./xmin').text\n",
    "            boxes[i][1] = bndbox.find('./ymin').text\n",
    "            boxes[i][2] = bndbox.find('./xmax').text\n",
    "            boxes[i][3] = bndbox.find('./ymax').text\n",
    "            print(boxes[0])\n",
    "        \n",
    "        #print(boxes)\n",
    "    \n",
    "    return boxes"
   ]
  },
  {
   "cell_type": "code",
   "execution_count": 174,
   "id": "6f9830c3",
   "metadata": {},
   "outputs": [
    {
     "name": "stdout",
     "output_type": "stream",
     "text": [
      "[[[0, 0, 0, 0]], [[0, 0, 0, 0]], [[0, 0, 0, 0]], [[0, 0, 0, 0]], [[0, 0, 0, 0]], [[0, 0, 0, 0]], [[0, 0, 0, 0]]]\n"
     ]
    },
    {
     "ename": "IndexError",
     "evalue": "list assignment index out of range",
     "output_type": "error",
     "traceback": [
      "\u001b[1;31m---------------------------------------------------------------------------\u001b[0m",
      "\u001b[1;31mIndexError\u001b[0m                                Traceback (most recent call last)",
      "\u001b[1;32m<ipython-input-174-47060c39fe2b>\u001b[0m in \u001b[0;36m<module>\u001b[1;34m\u001b[0m\n\u001b[0;32m     10\u001b[0m     \u001b[0mlabel_file\u001b[0m \u001b[1;33m=\u001b[0m \u001b[1;34mf'{label_dir}/{label_file}'\u001b[0m\u001b[1;33m\u001b[0m\u001b[1;33m\u001b[0m\u001b[0m\n\u001b[0;32m     11\u001b[0m     \u001b[1;31m#w, h = getSizeFromXML(label_file_path)\u001b[0m\u001b[1;33m\u001b[0m\u001b[1;33m\u001b[0m\u001b[1;33m\u001b[0m\u001b[0m\n\u001b[1;32m---> 12\u001b[1;33m     \u001b[0mbboxes\u001b[0m \u001b[1;33m=\u001b[0m \u001b[0mgetRectFromXML\u001b[0m\u001b[1;33m(\u001b[0m\u001b[0mlabel_dir\u001b[0m\u001b[1;33m,\u001b[0m \u001b[0mlabel_files\u001b[0m\u001b[1;33m)\u001b[0m\u001b[1;33m\u001b[0m\u001b[1;33m\u001b[0m\u001b[0m\n\u001b[0m\u001b[0;32m     13\u001b[0m     \u001b[0mprint\u001b[0m\u001b[1;33m(\u001b[0m\u001b[0mbboxes\u001b[0m\u001b[1;33m)\u001b[0m\u001b[1;33m\u001b[0m\u001b[1;33m\u001b[0m\u001b[0m\n\u001b[0;32m     14\u001b[0m \u001b[1;33m\u001b[0m\u001b[0m\n",
      "\u001b[1;32m<ipython-input-173-b6c623933ec0>\u001b[0m in \u001b[0;36mgetRectFromXML\u001b[1;34m(dir_path, files)\u001b[0m\n\u001b[0;32m     17\u001b[0m             \u001b[0mbndbox\u001b[0m \u001b[1;33m=\u001b[0m \u001b[0mobject_\u001b[0m\u001b[1;33m.\u001b[0m\u001b[0mfind\u001b[0m\u001b[1;33m(\u001b[0m\u001b[1;34m'./bndbox'\u001b[0m\u001b[1;33m)\u001b[0m\u001b[1;33m\u001b[0m\u001b[1;33m\u001b[0m\u001b[0m\n\u001b[0;32m     18\u001b[0m             \u001b[0mboxes\u001b[0m\u001b[1;33m[\u001b[0m\u001b[0mi\u001b[0m\u001b[1;33m]\u001b[0m\u001b[1;33m[\u001b[0m\u001b[1;36m0\u001b[0m\u001b[1;33m]\u001b[0m \u001b[1;33m=\u001b[0m \u001b[0mbndbox\u001b[0m\u001b[1;33m.\u001b[0m\u001b[0mfind\u001b[0m\u001b[1;33m(\u001b[0m\u001b[1;34m'./xmin'\u001b[0m\u001b[1;33m)\u001b[0m\u001b[1;33m.\u001b[0m\u001b[0mtext\u001b[0m\u001b[1;33m\u001b[0m\u001b[1;33m\u001b[0m\u001b[0m\n\u001b[1;32m---> 19\u001b[1;33m             \u001b[0mboxes\u001b[0m\u001b[1;33m[\u001b[0m\u001b[0mi\u001b[0m\u001b[1;33m]\u001b[0m\u001b[1;33m[\u001b[0m\u001b[1;36m1\u001b[0m\u001b[1;33m]\u001b[0m \u001b[1;33m=\u001b[0m \u001b[0mbndbox\u001b[0m\u001b[1;33m.\u001b[0m\u001b[0mfind\u001b[0m\u001b[1;33m(\u001b[0m\u001b[1;34m'./ymin'\u001b[0m\u001b[1;33m)\u001b[0m\u001b[1;33m.\u001b[0m\u001b[0mtext\u001b[0m\u001b[1;33m\u001b[0m\u001b[1;33m\u001b[0m\u001b[0m\n\u001b[0m\u001b[0;32m     20\u001b[0m             \u001b[0mboxes\u001b[0m\u001b[1;33m[\u001b[0m\u001b[0mi\u001b[0m\u001b[1;33m]\u001b[0m\u001b[1;33m[\u001b[0m\u001b[1;36m2\u001b[0m\u001b[1;33m]\u001b[0m \u001b[1;33m=\u001b[0m \u001b[0mbndbox\u001b[0m\u001b[1;33m.\u001b[0m\u001b[0mfind\u001b[0m\u001b[1;33m(\u001b[0m\u001b[1;34m'./xmax'\u001b[0m\u001b[1;33m)\u001b[0m\u001b[1;33m.\u001b[0m\u001b[0mtext\u001b[0m\u001b[1;33m\u001b[0m\u001b[1;33m\u001b[0m\u001b[0m\n\u001b[0;32m     21\u001b[0m             \u001b[0mboxes\u001b[0m\u001b[1;33m[\u001b[0m\u001b[0mi\u001b[0m\u001b[1;33m]\u001b[0m\u001b[1;33m[\u001b[0m\u001b[1;36m3\u001b[0m\u001b[1;33m]\u001b[0m \u001b[1;33m=\u001b[0m \u001b[0mbndbox\u001b[0m\u001b[1;33m.\u001b[0m\u001b[0mfind\u001b[0m\u001b[1;33m(\u001b[0m\u001b[1;34m'./ymax'\u001b[0m\u001b[1;33m)\u001b[0m\u001b[1;33m.\u001b[0m\u001b[0mtext\u001b[0m\u001b[1;33m\u001b[0m\u001b[1;33m\u001b[0m\u001b[0m\n",
      "\u001b[1;31mIndexError\u001b[0m: list assignment index out of range"
     ]
    }
   ],
   "source": [
    "import cv2\n",
    "\n",
    "label_dir = r\"./label\"\n",
    "label_files = os.listdir(label_dir)\n",
    "\n",
    "new_label_path = r\"./resize_label\"\n",
    "\n",
    "for label_file in label_files:\n",
    "    fileName = str(label_file).split('.')[0]\n",
    "    label_file = f'{label_dir}/{label_file}'\n",
    "    #w, h = getSizeFromXML(label_file_path)\n",
    "    bboxes = getRectFromXML(label_dir, label_files)\n",
    "    print(bboxes)\n",
    "\n",
    "    # Save label\n",
    "    if not os.path.exists(new_label_path):\n",
    "        os.makedirs(new_label_path)\n",
    "    \n",
    "    new_label_file = new_label_path + fileName + '.xml'\n",
    "    changeLabel(label_file, new_label_file, new_label_path, bboxes)"
   ]
  },
  {
   "cell_type": "code",
   "execution_count": null,
   "id": "840e9954",
   "metadata": {},
   "outputs": [],
   "source": [
    "for imgFile in imgFiles:\n",
    "    fileName = imgFile.split('.')[0]\n",
    "    label = f'{labelPath}{fileName}.xml'\n",
    "    w, h = getSizeFromXML(label)\n",
    "\n",
    "    # opencv loads images in bgr. the [:,:,::-1] does bgr -> rgb\n",
    "    image = cv2.imread(imgPath + imgFile)[:,:,::-1]\n",
    "    bboxes = getRectFromXML(classes, label)\n",
    "\n",
    "    # HorizontalFlip image\n",
    "    image, bboxes = RandomHorizontalFlip(1)(image.copy(), bboxes.copy())\n",
    "\n",
    "    # Save image\n",
    "    image = Image.fromarray(image, 'RGB')\n",
    "    newImgPath = f'./data/light/image/train/{className}/'\n",
    "    if not os.path.exists(newImgPath):\n",
    "        os.makedirs(newImgPath)\n",
    "    image.save(newImgPath + imgFile)\n",
    "\n",
    "    # Save label\n",
    "    newXmlPath = f'./data/light/label/train/{className}/'\n",
    "    if not os.path.exists(newXmlPath):\n",
    "        os.makedirs(newXmlPath)\n",
    "    newXmlPath = newXmlPath + fileName + '.xml'\n",
    "    changeLabel(label, newXmlPath, newImgPath, bboxes)"
   ]
  },
  {
   "cell_type": "markdown",
   "id": "b78e7343",
   "metadata": {},
   "source": [
    "###하단 코드 참고용 스크립트\n",
    "import cv2\n",
    "import os\n",
    "import xml.etree.ElementTree as ET\n",
    "\n",
    "\n",
    "def resizeLabel(files, xmlPath, newXmlPath):\n",
    "    if not os.path.exists(newXmlPath):\n",
    "        os.makedirs(newXmlPath)\n",
    "    \n",
    "    for xml_file in files:\n",
    "        tree = ET.parse(xmlPath + '/' + xml_file)\n",
    "        new_file = newXmlPath + '/' + xml_file\n",
    "        \n",
    "        # bounding box 변경\n",
    "        objects = tree.findall('./object')\n",
    "        for i, object_ in enumerate(objects):\n",
    "            bndbox = object_.find('./bndbox')\n",
    "            bndbox.find('./xmin').text = str(int(float(bndbox.find('./xmin').text) * 10))\n",
    "            bndbox.find('./ymin').text = str(int(float(bndbox.find('./ymin').text) * 10))\n",
    "            bndbox.find('./xmax').text = str(int(float(bndbox.find('./xmax').text) * 10))\n",
    "            bndbox.find('./ymax').text = str(int(float(bndbox.find('./ymax').text) * 10))\n",
    "        tree.write(new_file, encoding='utf8')\n",
    "\n",
    "        \n",
    "r_xml_dir = [r'./xml/v1', r'./xml/v2', r'./xml/v3', r'./xml/v4', r'./xml/v9', r'./xml/v10', r'./xml/v17', r'./xml/v18',\n",
    "             r'./xml/v19', r'./xml/v21', r'./xml/v22', r'./xml/v25', r'./xml/v26', r'./xml/v28']\n",
    "\n",
    "new_r_xml_dir = [r'./upsize_xml/v1', r'./upsize_xml/v2', r'./upsize_xml/v3', r'./upsize_xml/v4', r'./upsize_xml/v9',\n",
    "                 r'./upsize_xml/v10', r'./upsize_xml/v17', r'./upsize_xml/v18', r'./upsize_xml/v19', r'./upsize_xml/v21',\n",
    "                 r'./upsize_xml/v22', r'./upsize_xml/v25', r'./upsize_xml/v26', r'./upsize_xml/v28']\n",
    "\n",
    "for i, xml_path in enumerate(r_xml_dir):\n",
    "    new_xml_path = new_r_xml_dir[i]\n",
    "    xml_files = os.listdir(xml_path)\n",
    "    \n",
    "    print(xml_files)\n",
    "    \n",
    "    resizeLabel(xml_files, xml_path, new_xml_path)"
   ]
  },
  {
   "cell_type": "markdown",
   "id": "90e696ff",
   "metadata": {},
   "source": [
    "### VOC XML to YOLO"
   ]
  },
  {
   "cell_type": "code",
   "execution_count": 3,
   "id": "85f1cfc7",
   "metadata": {},
   "outputs": [
    {
     "name": "stdout",
     "output_type": "stream",
     "text": [
      " C 드라이브의 볼륨에는 이름이 없습니다.\n",
      " 볼륨 일련 번호: 081A-5A8F\n",
      "\n",
      " C:\\Users\\174910\\Documents\\Python Scripts 디렉터리\n",
      "\n",
      "2022-10-05  오후 04:36    <DIR>          .\n",
      "2022-10-05  오후 04:36    <DIR>          ..\n",
      "2022-10-05  오전 11:17    <DIR>          .ipynb_checkpoints\n",
      "2022-10-05  오후 04:11    <DIR>          annotations\n",
      "2022-10-05  오전 11:41    <DIR>          frame\n",
      "2022-10-05  오후 04:11    <DIR>          images\n",
      "2022-10-05  오후 12:57            11,287 labelImg-img_labelling.ipynb\n",
      "2022-10-05  오후 01:01    <DIR>          labels\n",
      "2022-10-05  오전 11:43            60,744 openCV-video_to_img.ipynb\n",
      "2022-10-05  오후 12:25    <DIR>          origin_img_xml\n",
      "2022-10-05  오후 04:36            50,719 PIL-resizing.ipynb\n",
      "2022-10-05  오후 12:21    <DIR>          upsize_xml\n",
      "2022-10-05  오전 11:19    <DIR>          video\n",
      "2022-10-05  오전 11:57    <DIR>          xml\n",
      "               3개 파일             122,750 바이트\n",
      "              11개 디렉터리  189,490,049,024 바이트 남음\n"
     ]
    }
   ],
   "source": [
    "ls"
   ]
  },
  {
   "cell_type": "code",
   "execution_count": 8,
   "id": "287cca7e",
   "metadata": {},
   "outputs": [
    {
     "ename": "ParseError",
     "evalue": "not well-formed (invalid token): line 5, column 31 (<string>)",
     "output_type": "error",
     "traceback": [
      "Traceback \u001b[1;36m(most recent call last)\u001b[0m:\n",
      "  File \u001b[0;32m~\\Anaconda3\\lib\\site-packages\\IPython\\core\\interactiveshell.py:3369\u001b[0m in \u001b[0;35mrun_code\u001b[0m\n    exec(code_obj, self.user_global_ns, self.user_ns)\n",
      "  Input \u001b[0;32mIn [8]\u001b[0m in \u001b[0;35m<cell line: 75>\u001b[0m\n    xml_to_yolo(xml_file)\n",
      "  Input \u001b[0;32mIn [8]\u001b[0m in \u001b[0;35mxml_to_yolo\u001b[0m\n    tree = ET.parse(xml_dir + '/' + xml_file)\n",
      "  File \u001b[0;32m~\\Anaconda3\\lib\\xml\\etree\\ElementTree.py:1229\u001b[0m in \u001b[0;35mparse\u001b[0m\n    tree.parse(source, parser)\n",
      "\u001b[1;36m  File \u001b[1;32m~\\Anaconda3\\lib\\xml\\etree\\ElementTree.py:580\u001b[1;36m in \u001b[1;35mparse\u001b[1;36m\u001b[0m\n\u001b[1;33m    self._root = parser._parse_whole(source)\u001b[0m\n",
      "\u001b[1;36m  File \u001b[1;32m<string>\u001b[1;36m\u001b[0m\n\u001b[1;31mParseError\u001b[0m\u001b[1;31m:\u001b[0m not well-formed (invalid token): line 5, column 31\n"
     ]
    }
   ],
   "source": [
    "import glob\n",
    "import json\n",
    "import os\n",
    "import xml.etree.ElementTree as ET\n",
    "\n",
    "\n",
    "def xml_to_yolo_bbox(bbox, w, h):\n",
    "    # xmin, ymin, xmax, ymax\n",
    "    x_center = ((bbox[2] + bbox[0]) / 2) / w\n",
    "    y_center = ((bbox[3] + bbox[1]) / 2) / h\n",
    "    width = (bbox[2] - bbox[0]) / w\n",
    "    height = (bbox[3] - bbox[1]) / h\n",
    "    return [x_center, y_center, width, height]\n",
    "\n",
    "\n",
    "def yolo_to_xml_bbox(bbox, w, h):\n",
    "    # x_center, y_center width heigth\n",
    "    w_half_len = (bbox[2] * w) / 2\n",
    "    h_half_len = (bbox[3] * h) / 2\n",
    "    xmin = int((bbox[0] * w) - w_half_len)\n",
    "    ymin = int((bbox[1] * h) - h_half_len)\n",
    "    xmax = int((bbox[0] * w) + w_half_len)\n",
    "    ymax = int((bbox[1] * h) + h_half_len)\n",
    "    return [xmin, ymin, xmax, ymax]\n",
    "\n",
    "classes = ['deer', 'beam', 'gcooter', 'others']\n",
    "xml_dir = \"./annotations\"\n",
    "output_dir = \"./labels\"\n",
    "image_dir = \"./images\"\n",
    "\n",
    "# create the labels folder (output directory)\n",
    "if not os.path.exists(output_dir):\n",
    "    os.mkdir(output_dir)\n",
    "\n",
    "# identify all the xml files in the annotations folder (input directory)    \n",
    "def xml_to_yolo(xml_file):\n",
    "    xml_filename = xml_file.split('.')[0]\n",
    "    if not os.path.exists(image_dir + '/' + xml_filename + '.jpg'):\n",
    "        print(f\"{xml_filename} image does not exist!\")\n",
    "        return\n",
    "\n",
    "    result = []\n",
    "\n",
    "    # parse the content of the xml file\n",
    "    tree = ET.parse(xml_dir + '/' + xml_file)\n",
    "    #root = tree.getroot()\n",
    "    width = int(tree.find(\"size\").find(\"width\").text)\n",
    "    height = int(tree.find(\"size\").find(\"height\").text)\n",
    "\n",
    "    objects = tree.findall('./object')\n",
    "    for obj in objects:\n",
    "        label = obj.find(\"./name\").text\n",
    "        # check for new classes and append to list\n",
    "        if label not in classes:\n",
    "            classes.append(label)\n",
    "        index = classes.index(label)\n",
    "        pil_bbox = [int(x.text) for x in obj.find(\"bndbox\")]\n",
    "        yolo_bbox = xml_to_yolo_bbox(pil_bbox, width, height)\n",
    "        # convert data to string\n",
    "        bbox_string = \" \".join([str(x) for x in yolo_bbox])\n",
    "        result.append(f\"{index} {bbox_string}\")\n",
    "\n",
    "    if result:\n",
    "        # generate a YOLO format text file for each xml file\n",
    "        with open(os.path.join(output_dir, f\"{filename}.txt\"), \"w\", encoding=\"utf-8\") as f:\n",
    "            f.write(\"\\n\".join(result))\n",
    "\n",
    "# generate the classes file as reference\n",
    "with open('classes.txt', 'w', encoding='utf8') as f:\n",
    "    f.write(json.dumps(classes))\n",
    "\n",
    "xml_files = os.listdir(fr'{xml_dir}')\n",
    "\n",
    "# loop through each\n",
    "for xml_file in xml_files:\n",
    "    #basename = os.path.basename(fil)\n",
    "    #filename = os.path.splitext(basename)[0]\n",
    "    # check if the label contains the corresponding image file\n",
    "    xml_to_yolo(xml_file)"
   ]
  },
  {
   "cell_type": "code",
   "execution_count": null,
   "id": "e256c011",
   "metadata": {},
   "outputs": [],
   "source": []
  }
 ],
 "metadata": {
  "kernelspec": {
   "display_name": "Python 3 (ipykernel)",
   "language": "python",
   "name": "python3"
  },
  "language_info": {
   "codemirror_mode": {
    "name": "ipython",
    "version": 3
   },
   "file_extension": ".py",
   "mimetype": "text/x-python",
   "name": "python",
   "nbconvert_exporter": "python",
   "pygments_lexer": "ipython3",
   "version": "3.9.12"
  }
 },
 "nbformat": 4,
 "nbformat_minor": 5
}
